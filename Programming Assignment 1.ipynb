{
 "cells": [
  {
   "cell_type": "markdown",
   "id": "3e005d51",
   "metadata": {},
   "source": [
    "### 1.Write a program to print \"Hello python\"\n"
   ]
  },
  {
   "cell_type": "code",
   "execution_count": 2,
   "id": "c5a99191",
   "metadata": {},
   "outputs": [
    {
     "name": "stdout",
     "output_type": "stream",
     "text": [
      "Hello Python\n"
     ]
    }
   ],
   "source": [
    "print(\"Hello Python\")"
   ]
  },
  {
   "cell_type": "markdown",
   "id": "b7fb8165",
   "metadata": {},
   "source": [
    "### 2.Write a python program to do arithmetical operations addition and division"
   ]
  },
  {
   "cell_type": "code",
   "execution_count": 1,
   "id": "db055823",
   "metadata": {},
   "outputs": [
    {
     "name": "stdout",
     "output_type": "stream",
     "text": [
      "20\n",
      "3.0\n"
     ]
    }
   ],
   "source": [
    "a=15\n",
    "b=5\n",
    "print(a+b)\n",
    "print(a/b)"
   ]
  },
  {
   "cell_type": "markdown",
   "id": "b8f1cf25",
   "metadata": {},
   "source": [
    "### 3. Write a Python program to find the area of a triangle?"
   ]
  },
  {
   "cell_type": "code",
   "execution_count": 5,
   "id": "958167ba",
   "metadata": {},
   "outputs": [
    {
     "name": "stdout",
     "output_type": "stream",
     "text": [
      "4\n",
      "2\n",
      "4.0\n"
     ]
    }
   ],
   "source": [
    "b=int(input())\n",
    "h=int(input())\n",
    "area=1/2*b*h\n",
    "print(area)"
   ]
  },
  {
   "cell_type": "markdown",
   "id": "8f410993",
   "metadata": {},
   "source": [
    "### 4. Write a Python program to swap two variables?"
   ]
  },
  {
   "cell_type": "code",
   "execution_count": 2,
   "id": "60f5441c",
   "metadata": {},
   "outputs": [
    {
     "name": "stdout",
     "output_type": "stream",
     "text": [
      "a = 6\n",
      "b = 5\n"
     ]
    }
   ],
   "source": [
    "a=5\n",
    "b=6\n",
    "c=a\n",
    "a=b\n",
    "b=c\n",
    "print(\"a =\",a)\n",
    "print(\"b =\",b)"
   ]
  },
  {
   "cell_type": "markdown",
   "id": "672085c3",
   "metadata": {},
   "source": [
    "### 5. Write a Python program to generate a random number?"
   ]
  },
  {
   "cell_type": "code",
   "execution_count": 1,
   "id": "8d977020",
   "metadata": {},
   "outputs": [
    {
     "name": "stdout",
     "output_type": "stream",
     "text": [
      "56\n",
      "85\n",
      "58\n"
     ]
    }
   ],
   "source": [
    "import random as rand\n",
    "start=int(input())\n",
    "end=int(input())\n",
    "print(rand.randint(start,end))"
   ]
  },
  {
   "cell_type": "code",
   "execution_count": null,
   "id": "5445026b",
   "metadata": {},
   "outputs": [],
   "source": []
  }
 ],
 "metadata": {
  "kernelspec": {
   "display_name": "Python 3 (ipykernel)",
   "language": "python",
   "name": "python3"
  },
  "language_info": {
   "codemirror_mode": {
    "name": "ipython",
    "version": 3
   },
   "file_extension": ".py",
   "mimetype": "text/x-python",
   "name": "python",
   "nbconvert_exporter": "python",
   "pygments_lexer": "ipython3",
   "version": "3.9.2"
  }
 },
 "nbformat": 4,
 "nbformat_minor": 5
}
